{
 "cells": [
  {
   "cell_type": "markdown",
   "metadata": {},
   "source": [
    "### Addition of 3x3 matrix"
   ]
  },
  {
   "cell_type": "code",
   "execution_count": null,
   "metadata": {},
   "outputs": [],
   "source": [
    "matrix1 = [[1, 2, 3],\n",
    "            [2, 3, 4],\n",
    "            [1, 1, 1]]\n",
    "\n",
    "matrix2 = [[4, 5, 6], \n",
    "                            [7, 8, 9], \n",
    "                            [4, 5, 0]]\n",
    "\n",
    "for r in range(0, len(matrix1)):\n",
    "    vector1 = matrix1[r]\n",
    "    vector2 = matrix2[r]\n",
    "    for i in range(0, len(matrix1)):\n",
    "        print(vector1[i] + vector2[i])"
   ]
  },
  {
   "cell_type": "markdown",
   "metadata": {},
   "source": [
    "### Subtraction of 3x3 matrix"
   ]
  },
  {
   "cell_type": "code",
   "execution_count": null,
   "metadata": {},
   "outputs": [],
   "source": [
    "matrix1 = [[1, 2, 3], \n",
    "            [2, 3, 4],\n",
    "            [1, 1, 1]]\n",
    "\n",
    "matrix2 = [[4, 5, 6],\n",
    "            [7, 8, 9],\n",
    "            [4, 5, 0]]\n",
    "\n",
    "for r in range(0, len(matrix1)):\n",
    "    vector1 = matrix1[r]\n",
    "    vector2 = matrix2[r]\n",
    "    for i in range(0, len(matrix1)):\n",
    "        print(vector1[i] - vector2[i])"
   ]
  },
  {
   "cell_type": "markdown",
   "metadata": {},
   "source": [
    "### Multiplication of 2x2 matrix"
   ]
  },
  {
   "cell_type": "code",
   "execution_count": null,
   "metadata": {},
   "outputs": [],
   "source": [
    "# 1nd and explanatory way to calculate matrix multiplication\n",
    "matrix1 = [[1, 2], \n",
    "            [2, 3]]\n",
    "\n",
    "matrix2 = [[4, 5],\n",
    "            [7, 8]]\n",
    "\n",
    "A = matrix1[0][0] * matrix2[0][0] + matrix1[0][1] * matrix2[1][0] # first row and first column\n",
    "B = matrix1[0][0] * matrix2[0][1] + matrix1[0][1] * matrix2[1][1] # first row and second column\n",
    "C = matrix1[1][0] * matrix2[0][0] + matrix1[1][1] * matrix2[1][0] # second row and first column\n",
    "D = matrix1[1][0] * matrix2[0][1] + matrix1[1][1] * matrix2[1][1] # second row and second column\n",
    "\n",
    "\n",
    "res = [[A,B], [C,D]] # Again structuring into resulting matrix\n",
    "\n",
    "for i in range(len(res)):\n",
    "    for j in range(len(res[i])):\n",
    "        print(res[i][j])\n",
    "\n",
    "\n",
    "# 2nd way to calculate matrix multiplication\n",
    "a = [1, 2], [2, 3]\n",
    "b = [4, 5], [7, 8]\n",
    "\n",
    "res = 0 \n",
    "\n",
    "for i in range(2):\n",
    "        for j in range(2):\n",
    "                for k in range(2):\n",
    "                        res += a[i][k]*b[k][j]           \n",
    "                print(res)\n",
    "                res = 0\n",
    "\n",
    "# 3nd way to calculate matrix multiplication\n",
    "matrix1 = [[1, 2], \n",
    "            [2, 3]]\n",
    "\n",
    "matrix2 = [[4, 5],\n",
    "            [7, 8]]\n",
    "\n",
    "elem = 0\n",
    "\n",
    "for i in range(len(matrix1)): # row in 1st matrix\n",
    "    for j in range(len(matrix2[0])): # column in 2nd matrix\n",
    "        for k in range(len(matrix2)): # position index\n",
    "            elem += matrix1[i][k] * matrix2[k][j]\n",
    "        print(elem)\n",
    "        elem = 0"
   ]
  },
  {
   "cell_type": "markdown",
   "metadata": {},
   "source": [
    "### 3x3 matrix multiplication"
   ]
  },
  {
   "cell_type": "code",
   "execution_count": null,
   "metadata": {},
   "outputs": [],
   "source": [
    "matrix1 = [[1 , 2 , 3 ],        \n",
    "            [2 , 3 , 4 ],         \n",
    "            [1 , 1 , 1 ]]  \n",
    "\n",
    "matrix2 = [[4 , 5  ,6 ], \n",
    "            [7,  8 , 9 ],\n",
    "            [4 , 5 , 7 ]]    \n",
    "\n",
    "elem = 0\n",
    "\n",
    "for i in range(len(matrix1)): # row in 1st matrix\n",
    "    for j in range(len(matrix2[0])): # column in 2nd matrix\n",
    "        for k in range(len(matrix2)): # position index\n",
    "            elem += matrix1[i][k] * matrix2[k][j]\n",
    "        print(elem)\n",
    "        elem = 0"
   ]
  }
 ],
 "metadata": {
  "kernelspec": {
   "display_name": "Python 3",
   "language": "python",
   "name": "python3"
  },
  "language_info": {
   "codemirror_mode": {
    "name": "ipython",
    "version": 3
   },
   "file_extension": ".py",
   "mimetype": "text/x-python",
   "name": "python",
   "nbconvert_exporter": "python",
   "pygments_lexer": "ipython3",
   "version": "3.11.3"
  }
 },
 "nbformat": 4,
 "nbformat_minor": 2
}
