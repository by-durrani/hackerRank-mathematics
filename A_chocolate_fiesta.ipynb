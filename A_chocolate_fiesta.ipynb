{
 "cells": [
  {
   "cell_type": "markdown",
   "metadata": {},
   "source": [
    "### Problem from hacker rank combinatorics\n",
    "\n",
    "Lets say you have set A (from maths) i.e \n",
    "\n",
    "```\n",
    "    A = [a1, a2, a3, ...]\n",
    "\n",
    "    or\n",
    "\n",
    "    A = [2, 2, 3]\n",
    "``` \n",
    "the possible combinations set A will be\n",
    "\n",
    "```\n",
    "    [2], [2], [3], [2, 2], [2, 3], [2, 3], [2, 2, 3]\n",
    "```\n",
    "\n",
    "Here is the mathematical solution for extracting number of even subsets.  "
   ]
  },
  {
   "cell_type": "code",
   "execution_count": null,
   "metadata": {},
   "outputs": [],
   "source": [
    "\n",
    "\n",
    "def solve(a): \n",
    "    if len(a) == 0: \n",
    "        return 0\n",
    "\n",
    "    evn = [nmbr for nmbr in a if nmbr%2==0] \n",
    "    od = [nmbr for nmbr in a if nmbr%2!=0] \n",
    "\n",
    "    ven = 2**(len(evn)) - 1 \n",
    "\n",
    "    if len(od) > 0: \n",
    "        do = 2**(len(od)-1) - 1 \n",
    "    else:\n",
    "        do = 0 \n",
    "    tot = ven+do+do*ven \n",
    "\n",
    "    return tot%1000000007\n",
    "\n",
    "\n",
    "\n",
    "solve([1,2,2])"
   ]
  }
 ],
 "metadata": {
  "kernelspec": {
   "display_name": "Python 3",
   "language": "python",
   "name": "python3"
  },
  "language_info": {
   "codemirror_mode": {
    "name": "ipython",
    "version": 3
   },
   "file_extension": ".py",
   "mimetype": "text/x-python",
   "name": "python",
   "nbconvert_exporter": "python",
   "pygments_lexer": "ipython3",
   "version": "3.11.3"
  }
 },
 "nbformat": 4,
 "nbformat_minor": 2
}
